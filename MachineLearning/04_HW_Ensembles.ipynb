{
 "cells": [
  {
   "cell_type": "markdown",
   "metadata": {
    "id": "HfbehLLeGd2k"
   },
   "source": [
    "# Случайные леса\n",
    "__Суммарное количество баллов: 10__\n",
    "\n",
    "В этом задании вам предстоит реализовать ансамбль деревьев решений, известный как случайный лес, применить его к публичным данным и сравнить его эффективность с ансамблями из самых популярных библиотек."
   ]
  },
  {
   "cell_type": "code",
   "execution_count": null,
   "metadata": {
    "id": "VL5Xxl-JGd2l"
   },
   "outputs": [],
   "source": [
    "from collections import defaultdict\n",
    "import random\n",
    "\n",
    "from sklearn.model_selection import train_test_split\n",
    "import numpy as np\n",
    "import pandas as pd\n",
    "import matplotlib.pyplot as plt\n",
    "import matplotlib"
   ]
  },
  {
   "cell_type": "markdown",
   "metadata": {
    "id": "P4rTiSMrGd2l"
   },
   "source": [
    "# Задание 1 (3 балла)"
   ]
  },
  {
   "cell_type": "markdown",
   "metadata": {
    "id": "iq514YbXGd2m"
   },
   "source": [
    "Реализуем сам Random Forest. Идея очень простая: строим `n` деревьев, а затем берем модальное предсказание. Используйте реализацию дерева из HW3.\n",
    "\n",
    "#### Параметры конструктора\n",
    "`n_estimators` - количество используемых для предсказания деревьев.\n",
    "\n",
    "Остальное - параметры деревьев.\n",
    "\n",
    "#### Методы\n",
    "`fit(X, y)` - строит `n_estimators` деревьев по выборке `X`.\n",
    "\n",
    "`predict(X)` - для каждого элемента выборки `X` возвращает самый частый класс, который предсказывают для него деревья."
   ]
  },
  {
   "cell_type": "markdown",
   "metadata": {
    "id": "hV4eaWnfGd2m"
   },
   "source": [
    "Код из ДЗ 3 для построения деревьев решений:"
   ]
  },
  {
   "cell_type": "code",
   "execution_count": null,
   "metadata": {
    "id": "nD71LtBMGd2m"
   },
   "outputs": [],
   "source": [
    "def values_probs(x: np.array) -> np.array:\n",
    "    \"\"\"Calculate frequencies of unique values in the array\"\"\"\n",
    "\n",
    "    n = len(x)\n",
    "    counts = np.unique(x, return_counts=True)[1]\n",
    "    \n",
    "    return counts / n\n",
    "    \n",
    "\n",
    "def gini(x):\n",
    "    \"\"\"Calculate Gini impurity defined as sum of p(y) * (1- p(y)) for all unique values of x\"\"\"\n",
    "    probs = values_probs(x)\n",
    "    \n",
    "    return np.sum(probs * (1 - probs))\n",
    "    \n",
    "def entropy(x):\n",
    "    \"\"\"Calculate entropy defined as negative sum of p(y) * log2(p(y)) for all unique values of x\"\"\"\n",
    "    probs = values_probs(x)\n",
    "    \n",
    "    return -np.sum(probs * np.log2(probs))\n",
    "\n",
    "def gain(left_y, right_y, criterion):\n",
    "    \"\"\"Information gain from `criterion` from splitting node to `left_y` and `right_y`\"\"\"\n",
    "    \n",
    "    node = np.concatenate([left_y, right_y])\n",
    "    \n",
    "    return len(node) * criterion(node) - len(left_y) * criterion(left_y) - len(right_y) * criterion(right_y)\n",
    "\n",
    "\n",
    "class DecisionTreeLeaf:\n",
    "    @staticmethod\n",
    "    def _most_frequent_class(classes):\n",
    "        keys, counts = np.unique(classes, return_counts=True)\n",
    "        max_count_idx = counts.argmax()\n",
    "        \n",
    "        return keys[max_count_idx]\n",
    "    \n",
    "    def __init__(self, classes):\n",
    "        self.classes = classes\n",
    "        self.y = self._most_frequent_class(classes)\n",
    "\n",
    "\n",
    "class DecisionTreeNode:\n",
    "    def __init__(self, split_dim, split_value, left, right):\n",
    "        self.split_dim = split_dim\n",
    "        self.split_value = split_value\n",
    "        self.left = left\n",
    "        self.right = right\n",
    "        \n",
    "        \n",
    "class DecisionTreeClassifier:\n",
    "    def __init__(self, criterion=\"gini\", max_depth=None, min_samples_leaf=1, indexes=None):\n",
    "        self.max_depth = max_depth\n",
    "        self.min_samples_leaf = min_samples_leaf\n",
    "        self.X_indexes = indexes  # Useful to store for the calculation of the OOB error\n",
    "        \n",
    "        if criterion == \"gini\":\n",
    "            self.criterion = gini\n",
    "        elif criterion == \"entropy\":\n",
    "            self.criterion = entropy\n",
    "        else:\n",
    "            raise ValueError(f\"Criterion {criterion} is not supported\")\n",
    "        \n",
    "        self.root = None\n",
    "        \n",
    "    \n",
    "    def _find_best_split(self, X, y):\n",
    "        best_split_feature = None\n",
    "        best_gain = -np.inf\n",
    "        best_threshold = None\n",
    "        best_left_idxs = None\n",
    "        best_right_idxs = None\n",
    "        \n",
    "        for feature in X.columns:\n",
    "            \n",
    "            # Use percentiles of feature to reduce computations\n",
    "            n_values = len(X[feature].unique())\n",
    "            percents = np.linspace(0, 100, min(30, n_values))\n",
    "            percentiles = np.unique(np.percentile(X[feature], percents))\n",
    "            \n",
    "            for threshold in percentiles:\n",
    "                \n",
    "                left_child_indexes = [idx for idx in X.index if X[feature][idx] <= threshold]\n",
    "                right_child_indexes = [idx for idx in X.index if X[feature][idx] > threshold]\n",
    "                \n",
    "                split_gain = gain(y.loc[left_child_indexes], y.loc[right_child_indexes], self.criterion)\n",
    "                \n",
    "                if split_gain > best_gain and left_child_indexes and right_child_indexes:\n",
    "                    best_gain = split_gain\n",
    "                    best_split_feature = feature\n",
    "                    best_threshold = threshold\n",
    "                    best_left_idxs = left_child_indexes\n",
    "                    best_right_idxs = right_child_indexes\n",
    "                    \n",
    "        return best_split_feature, best_threshold, best_left_idxs, best_right_idxs\n",
    "\n",
    "    \n",
    "    def _split_node(self, X, y, depth):      \n",
    "        if len(y) <= self.min_samples_leaf or (self.max_depth is not None and depth >= self.max_depth):\n",
    "            return DecisionTreeLeaf(y)\n",
    "        \n",
    "        feature, threshold, left_indexes, right_indexes = self._find_best_split(X, y)\n",
    "        \n",
    "        if feature is None:  # No good split exists, so lets create a leaf\n",
    "            return DecisionTreeLeaf(y)\n",
    "        \n",
    "        left_X, left_y = X.loc[left_indexes], y.loc[left_indexes]\n",
    "        right_X, right_y = X.loc[right_indexes], y.loc[right_indexes]\n",
    "    \n",
    "        # Create children\n",
    "        left_child = self._split_node(left_X, left_y, depth + 1)\n",
    "        right_child = self._split_node(right_X, right_y, depth + 1)\n",
    "        \n",
    "        return DecisionTreeNode(split_dim=feature, split_value=threshold, left=left_child, right=right_child)\n",
    "                    \n",
    "        \n",
    "    def fit(self, X, y):\n",
    "        self.root = self._split_node(X, y, depth=1)\n",
    "        \n",
    "    def _walk_down_to_the_leaf(self, x, node=None):\n",
    "        if node is None:\n",
    "            node = self.root\n",
    "        \n",
    "        if isinstance(node, DecisionTreeLeaf):\n",
    "            return node\n",
    "        \n",
    "        # Else we have non leaf node and have to go deeper\n",
    "        feature = node.split_dim\n",
    "        \n",
    "        if x[feature] <= node.split_value:\n",
    "            return self._walk_down_to_the_leaf(x, node.left)\n",
    "        else:\n",
    "            return self._walk_down_to_the_leaf(x, node.right)\n",
    "    \n",
    "    def predict_proba(self, X) -> list:\n",
    "        \"\"\"Return dict with probabilities of the classes for each observation in `X`\"\"\"\n",
    "        probs = []\n",
    "        \n",
    "        for _, x in X.iterrows():\n",
    "            leaf = self._walk_down_to_the_leaf(x)\n",
    "            classes, counts = np.unique(leaf.classes, return_counts=True)\n",
    "            counts = counts / leaf.classes.shape[0]  # Transform counts to probabilities\n",
    "                \n",
    "            probs.append(dict(zip(classes, counts)))\n",
    "                \n",
    "        return probs\n",
    "    \n",
    "    def predict(self, X):\n",
    "        proba = self.predict_proba(X)\n",
    "        return [max(p.keys(), key=lambda k: p[k]) for p in proba]"
   ]
  },
  {
   "cell_type": "code",
   "execution_count": null,
   "metadata": {
    "id": "UlSzcgTLGd2o"
   },
   "outputs": [],
   "source": [
    "def bootstrap(X, y, sample_size, n_features=None, return_index=False):\n",
    "    if n_features is None:\n",
    "        n_features = X.shape[1]\n",
    "        \n",
    "    features = np.random.choice(X.columns, size=n_features, replace=False)\n",
    "    observations_indexes = np.random.choice(X.index, size=sample_size)\n",
    "    \n",
    "    bootstrapped_X, bootstrapped_y = X[features].loc[observations_indexes], y.loc[observations_indexes]\n",
    "    \n",
    "    new_index = np.arange(sample_size)\n",
    "    bootstrapped_X.index = new_index\n",
    "    bootstrapped_y.index = new_index\n",
    "    \n",
    "    if return_index:\n",
    "        return bootstrapped_X, bootstrapped_y, observations_indexes\n",
    "    else:\n",
    "        return bootstrapped_X, bootstrapped_y"
   ]
  },
  {
   "cell_type": "code",
   "execution_count": null,
   "metadata": {
    "id": "6OVpPWJ7Gd2o"
   },
   "outputs": [],
   "source": [
    "class RandomForestClassifier:    \n",
    "    def __init__(self, criterion=\"gini\", max_depth=None, min_samples_leaf=1,\n",
    "                 max_features=\"auto\", n_estimators=10, store_indexes=False):\n",
    "        self.criterion = criterion\n",
    "        self.max_depth = max_depth\n",
    "        self.min_samples_leaf = min_samples_leaf\n",
    "        self.max_features = max_features\n",
    "        self.n_estimators = n_estimators\n",
    "        \n",
    "        self.n_features = None\n",
    "        self.classes = None\n",
    "        self.estimators = []\n",
    "        self.predictions = []\n",
    "        self.store_indexes = store_indexes\n",
    "    \n",
    "    def fit(self, X, y):\n",
    "        self.classes = np.unique(y)\n",
    "        \n",
    "        if self.max_features == \"auto\":\n",
    "            self.n_features = int(np.sqrt(X.shape[1]))\n",
    "        else:\n",
    "            self.n_features = self.max_features\n",
    "        \n",
    "        for _ in range(self.n_estimators):\n",
    "            if self.store_indexes:\n",
    "                bootstrapped_X, bootstrapped_y, indexes = bootstrap(\n",
    "                    X, y, sample_size=X.shape[0], n_features=self.n_features, return_index=True)\n",
    "            \n",
    "            else:\n",
    "                bootstrapped_X, bootstrapped_y = bootstrap(\n",
    "                    X, y, sample_size=X.shape[0], n_features=self.n_features)\n",
    "                indexes = None\n",
    "            \n",
    "            tree = DecisionTreeClassifier(\n",
    "                criterion=self.criterion, max_depth=self.max_depth,\n",
    "                min_samples_leaf=self.min_samples_leaf, indexes=indexes)\n",
    "            \n",
    "            tree.fit(bootstrapped_X, bootstrapped_y)\n",
    "            self.estimators.append(tree)\n",
    "    \n",
    "    def predict_proba(self, X):\n",
    "        self.predictions = []\n",
    "        \n",
    "        for tree in self.estimators:\n",
    "            y_pred = tree.predict(X)\n",
    "            \n",
    "            self.predictions.append(y_pred)\n",
    "        \n",
    "        self.predictions = np.array(self.predictions)\n",
    "        \n",
    "        return np.mean(self.predictions, axis=0)\n",
    "    \n",
    "    \n",
    "    def predict(self, X):\n",
    "        self.predict_proba(X)\n",
    "        \n",
    "        classes_counts = [defaultdict(int) for _ in range(X.shape[0])]\n",
    "        \n",
    "        # Calculate how many trees support each class for each observation\n",
    "        for prediction in self.predictions:\n",
    "            for i, observation_class in enumerate(prediction):\n",
    "                classes_counts[i][observation_class] += 1\n",
    "                \n",
    "        # Predict class with the maximum support for each observation\n",
    "        predicted_classes = np.zeros(shape=X.shape[0], dtype=type(self.classes[0]))\n",
    "        \n",
    "        for i, counts in enumerate(classes_counts):\n",
    "            predicted_classes[i] = max(counts, key=lambda class_: counts[class_])\n",
    "            \n",
    "        return predicted_classes"
   ]
  },
  {
   "cell_type": "markdown",
   "metadata": {
    "id": "y6RlsXUDGd2o"
   },
   "source": [
    "# Задание 2 (2 балла)\n",
    "Оптимизируйте по `AUC` на кроссвалидации (размер валидационной выборки - 20%) параметры своей реализации `Random Forest`: \n",
    "\n",
    "максимальную глубину деревьев из [2, 3, 5, 7, 10], количество деревьев из [5, 10, 20, 30, 50, 100]. \n",
    "\n",
    "Постройте `ROC` кривую (и выведите `AUC` и `accuracy`) для лучшего варианта.\n",
    "\n",
    "Подсказка: можно построить сразу 100 деревьев глубины 10, а потом убирать деревья и\n",
    "глубину."
   ]
  },
  {
   "cell_type": "code",
   "execution_count": null,
   "metadata": {
    "id": "aGKQrhtBGd2p"
   },
   "outputs": [],
   "source": [
    "from sklearn.metrics import roc_auc_score, roc_curve\n",
    "from sklearn.model_selection import KFold"
   ]
  },
  {
   "cell_type": "code",
   "execution_count": null,
   "metadata": {
    "id": "V93qsZuBGd2p"
   },
   "outputs": [],
   "source": [
    "X = pd.read_csv(\"data/x_spam_train.csv\", index_col=0)\n",
    "y = pd.read_csv(\"data/y_spam_train.csv\", index_col=0)\n",
    "\n",
    "X_train, X_validation, y_train, y_validation = train_test_split(X, y, test_size=0.2)\n",
    "\n",
    "X_test = pd.read_csv(\"data/x_spam_test.csv\")"
   ]
  },
  {
   "cell_type": "code",
   "execution_count": null,
   "metadata": {
    "id": "v7XYfs6PGd2p"
   },
   "outputs": [],
   "source": [
    "def plot_roc(y_true, y_pred, title):\n",
    "    fpr, tpr, thresholds = roc_curve(y_true, y_pred)\n",
    "    auc = roc_auc_score(y_true, y_pred)\n",
    "    plt.plot(fpr, tpr)\n",
    "    plt.title(title)\n",
    "    \n",
    "    # draw diagonal line\n",
    "    plt.plot([0, 1], [0, 1], \"--\", alpha=0.5, color=\"gray\")\n",
    "    \n",
    "    plt.xlim(-0.01, 1.01)\n",
    "    plt.ylim(-0.01, 1.01)\n",
    "    \n",
    "    plt.suptitle(f\"AUC: {round(auc, 3)}\", fontweight=\"bold\")\n",
    "\n",
    "    plt.tight_layout()\n",
    "    plt.show()"
   ]
  },
  {
   "cell_type": "code",
   "execution_count": null,
   "metadata": {
    "id": "J5MDzo1AGd2p",
    "outputId": "83ab1e0e-8135-49c7-9d1a-0dfb4afdb94e",
    "scrolled": false
   },
   "outputs": [
    {
     "name": "stdout",
     "output_type": "stream",
     "text": [
      "depth\tmax_trees\tscore\n",
      "2\t5\t0.8481036604859147\n",
      "2\t10\t0.9125726001886341\n",
      "2\t20\t0.917792527023457\n",
      "2\t30\t0.9344325139784813\n",
      "2\t50\t0.9323065789920362\n",
      "2\t100\t0.9334430132744164\n",
      "3\t5\t0.8826397337898975\n",
      "3\t10\t0.9188962364898867\n",
      "3\t20\t0.930389382778461\n",
      "3\t30\t0.9384721131141281\n",
      "3\t50\t0.9431525941886125\n",
      "3\t100\t0.9465746976574417\n",
      "5\t5\t0.9050274604830161\n",
      "5\t10\t0.939023256411582\n",
      "5\t20\t0.9367214743210862\n",
      "5\t30\t0.9476489556722093\n",
      "5\t50\t0.9557030026614866\n",
      "5\t100\t0.9565712074605903\n",
      "7\t5\t0.9117181246092422\n",
      "7\t10\t0.9304554685713754\n",
      "7\t20\t0.9494662337129516\n",
      "7\t30\t0.9464372829783138\n",
      "7\t50\t0.9593348907888061\n",
      "7\t100\t0.9608447401722872\n",
      "10\t5\t0.911130560309077\n",
      "10\t10\t0.9345696694748653\n",
      "10\t20\t0.9509321563135812\n",
      "10\t30\t0.9581002384798444\n",
      "10\t50\t0.9612067284548651\n",
      "10\t100\t0.9646674448114112\n"
     ]
    }
   ],
   "source": [
    "best_score = -np.inf\n",
    "best_model = None\n",
    "\n",
    "depths =  [2, 3, 5, 7, 10]\n",
    "n_trees = [5, 10, 20, 30, 50, 100]\n",
    "\n",
    "kf = KFold(n_splits=5)\n",
    "\n",
    "print(\"depth\", \"max_trees\", \"score\", sep=\"\\t\")\n",
    "\n",
    "for depth in depths:\n",
    "    for max_trees in n_trees:\n",
    "\n",
    "        aucs = []\n",
    "\n",
    "        for train_index, test_index in kf.split(X_train):    \n",
    "            X_fold_train, X_fold_test = X_train.iloc[train_index], X_train.iloc[test_index]\n",
    "            y_fold_train, y_fold_test = y_train.iloc[train_index], y_train.iloc[test_index]\n",
    "            \n",
    "            model = RandomForestClassifier(max_depth=depth, n_estimators=max_trees)\n",
    "            model.fit(X_fold_train, y_fold_train)\n",
    "            \n",
    "            y_fold_pred = model.predict_proba(X_fold_test)\n",
    "            aucs.append(roc_auc_score(y_fold_test, y_fold_pred))\n",
    "\n",
    "        score = np.mean(aucs)\n",
    "        \n",
    "        if score > best_score:\n",
    "            best_score = score\n",
    "            best_model = model\n",
    "            \n",
    "        print(depth, max_trees, score, sep=\"\\t\")"
   ]
  },
  {
   "cell_type": "code",
   "execution_count": null,
   "metadata": {
    "id": "wOrF5QAZGd2q",
    "outputId": "69142019-bf7e-4d85-ee99-f0b29bfdd89f"
   },
   "outputs": [
    {
     "data": {
      "image/png": "[encoded data removed]",
      "text/plain": [
       "<Figure size 432x288 with 1 Axes>"
      ]
     },
     "metadata": {
      "needs_background": "light"
     },
     "output_type": "display_data"
    }
   ],
   "source": [
    "y_pred = best_model.predict(X_validation)\n",
    "\n",
    "plot_roc(y_validation.to_numpy(), y_pred, title=f\"Max depth: {best_model.max_depth}, N trees: {best_model.n_estimators}\")"
   ]
  },
  {
   "cell_type": "markdown",
   "metadata": {
    "id": "KaHWVKPIGd2q"
   },
   "source": [
    "# Задание 3 (3 балла)"
   ]
  },
  {
   "cell_type": "markdown",
   "metadata": {
    "id": "aAD7VrXxGd2q"
   },
   "source": [
    "Часто хочется понимать, насколько большую роль играет тот или иной признак для предсказания класса объекта. Есть различные способы посчитать его важность. Один из простых способов сделать это для Random Forest выглядит так:\n",
    "1. Посчитать out-of-bag ошибку предсказания `err_oob` (https://en.wikipedia.org/wiki/Out-of-bag_error)\n",
    "2. Перемешать значения признака `j` у объектов выборки (у каждого из объектов изменится значение признака `j` на какой-то другой)\n",
    "3. Посчитать out-of-bag ошибку (`err_oob_j`) еще раз.\n",
    "4. Оценкой важности признака `j` для одного дерева будет разность `err_oob_j - err_oob`, важность для всего леса считается как среднее значение важности по деревьям.\n",
    "\n",
    "Реализуйте функцию `feature_importance`, которая принимает на вход Random Forest и возвращает массив, в котором содержится важность для каждого признака."
   ]
  },
  {
   "cell_type": "code",
   "execution_count": null,
   "metadata": {
    "id": "LtEDjFMGGd2q"
   },
   "outputs": [],
   "source": [
    "def oob_error(rfc, X, y):\n",
    "    \n",
    "    out_of_bag_errors = []\n",
    "    \n",
    "    for tree in rfc.estimators:\n",
    "        used_indexes = tree.X_indexes\n",
    "        \n",
    "        not_used_samples = X.loc[~X.index.isin(used_indexes)]\n",
    "        \n",
    "        y_true = y.loc[~X.index.isin(used_indexes)].to_numpy().flatten()\n",
    "        \n",
    "        if not_used_samples.shape[0]:  # There are not used samples\n",
    "            y_pred_oob = rfc.predict(not_used_samples)\n",
    "            error = 1 - np.mean(y_true == y_pred_oob)\n",
    "            \n",
    "        else:\n",
    "            error = 0  # All samples are used in the bootstrapping, so we can't calculate OOB error\n",
    "\n",
    "        out_of_bag_errors.append(error)\n",
    "        \n",
    "    return np.mean(out_of_bag_errors)\n",
    "\n",
    "\n",
    "def feature_importance(rfc, X, y):\n",
    "    \n",
    "    out_of_bag_error = oob_error(rfc, X, y)\n",
    "\n",
    "    feature_importances = []\n",
    "        \n",
    "    for feature in X.columns:\n",
    "        old_values = X[feature].to_numpy()\n",
    "        \n",
    "        # Shuffle values of feature\n",
    "        feature_values = old_values.copy()\n",
    "        np.random.shuffle(feature_values)\n",
    "        X[feature] = feature_values\n",
    "\n",
    "        # Calculate error without the feature\n",
    "        importance = oob_error(rfc, X, y) - out_of_bag_error\n",
    "        feature_importances.append(importance)\n",
    "                 \n",
    "        # Return original values to the dataframe\n",
    "        X[feature] = old_values\n",
    "        \n",
    "    return np.array(feature_importances)\n",
    "    \n",
    "\n",
    "def most_important_features(importance, names, k=20):\n",
    "    # Выводит названия k самых важных признаков\n",
    "    features_indexes = np.argsort(importance)[::-1][:k]\n",
    "    return np.array(names)[features_indexes]"
   ]
  },
  {
   "cell_type": "markdown",
   "metadata": {
    "id": "JlSZn4jgGd2r"
   },
   "source": [
    "Протестируйте решение на простом синтетическом наборе данных. В результате должна получиться точность `1.0`, наибольшее значение важности должно быть у признака с индексом `4`, признаки с индексами `2` и `3`  должны быть одинаково важны, а остальные признаки - не важны совсем."
   ]
  },
  {
   "cell_type": "code",
   "execution_count": null,
   "metadata": {
    "id": "7KVaf6foGd2r",
    "outputId": "b7f98a4b-a642-44f8-877d-a3827e212d68"
   },
   "outputs": [
    {
     "name": "stdout",
     "output_type": "stream",
     "text": [
      "Accuracy: 1.0\n",
      "Importance: [0.         0.         0.20648837 0.20589866 0.46676227 0.        ]\n"
     ]
    }
   ],
   "source": [
    "def synthetic_dataset(size):\n",
    "    X = [(np.random.randint(0, 2), np.random.randint(0, 2), i % 6 == 3, \n",
    "          i % 6 == 0, i % 3 == 2, np.random.randint(0, 2)) for i in range(size)]\n",
    "    y = [i % 3 for i in range(size)]\n",
    "    return pd.DataFrame(X), pd.DataFrame(y)\n",
    "\n",
    "X, y = synthetic_dataset(1000)\n",
    "rfc = RandomForestClassifier(n_estimators=15, max_features=6, store_indexes=True)\n",
    "rfc.fit(X, y)\n",
    "\n",
    "y_pred = rfc.predict(X)\n",
    "\n",
    "print(\"Accuracy:\", np.mean(y_pred == y.to_numpy().flatten()))\n",
    "print(\"Importance:\", feature_importance(rfc, X, y))"
   ]
  },
  {
   "cell_type": "markdown",
   "metadata": {
    "id": "dXdbEFCsGd2r"
   },
   "source": [
    "Проверьте, какие признаки важны для датасета spam? (Используйте файлы x_spam_train и y_spam_train)"
   ]
  },
  {
   "cell_type": "code",
   "execution_count": null,
   "metadata": {
    "id": "cSp9mjttGd2r",
    "outputId": "9233c6b8-e67a-4cee-9997-dec14e1c4183"
   },
   "outputs": [
    {
     "name": "stdout",
     "output_type": "stream",
     "text": [
      "Accuracy: 0.8661684782608695\n"
     ]
    }
   ],
   "source": [
    "model = RandomForestClassifier(n_estimators=20, max_depth=5, store_indexes=True)\n",
    "model.fit(X_train, y_train)\n",
    "\n",
    "y_pred = model.predict(X_train)\n",
    "\n",
    "print(\"Accuracy:\", np.mean(y_pred == y_train.to_numpy().flatten()))"
   ]
  },
  {
   "cell_type": "code",
   "execution_count": null,
   "metadata": {
    "id": "sIiB1SPnGd2r"
   },
   "outputs": [],
   "source": [
    "importances = feature_importance(model, X_train, y_train)"
   ]
  },
  {
   "cell_type": "code",
   "execution_count": null,
   "metadata": {
    "id": "6ookqwEmGd2r",
    "outputId": "acdcb75e-bf29-452e-a5cf-0c6c0bec01b1"
   },
   "outputs": [
    {
     "data": {
      "text/plain": [
       "<BarContainer object of 57 artists>"
      ]
     },
     "execution_count": 187,
     "metadata": {},
     "output_type": "execute_result"
    },
    {
     "data": {
      "image/png": "[encoded data removed]",
      "text/plain": [
       "<Figure size 1080x360 with 1 Axes>"
      ]
     },
     "metadata": {
      "needs_background": "light"
     },
     "output_type": "display_data"
    }
   ],
   "source": [
    "plt.figure(figsize=(15, 5))\n",
    "plt.bar(X_train.columns, importances)"
   ]
  },
  {
   "cell_type": "code",
   "execution_count": null,
   "metadata": {
    "id": "lQIVi4BTGd2s",
    "outputId": "128ec713-dac5-460f-b7f7-08805e16f839"
   },
   "outputs": [
    {
     "data": {
      "text/plain": [
       "array(['51', '54', '2', '52', '24', '56', '15', '55', '23', '6', '36',\n",
       "       '4', '22', '41', '25', '27', '49', '10', '21', '33'], dtype=object)"
      ]
     },
     "execution_count": 188,
     "metadata": {},
     "output_type": "execute_result"
    }
   ],
   "source": [
    "most_important_features(importances, X_train.columns)"
   ]
  },
  {
   "cell_type": "markdown",
   "metadata": {
    "id": "GKmbxShcGd2s"
   },
   "source": [
    "1. Обучите модель на всех данных из x_spam_train и y_spam_train.\n",
    "2. Сделайте submit своего решения и получите значение f1_score не менее 0.6"
   ]
  },
  {
   "cell_type": "code",
   "execution_count": null,
   "metadata": {
    "id": "ucE-YSrWGd2s"
   },
   "outputs": [],
   "source": [
    "X = pd.read_csv(\"data/x_spam_train.csv\", index_col=0)\n",
    "y = pd.read_csv(\"data/y_spam_train.csv\", index_col=0)\n",
    "\n",
    "model = RandomForestClassifier(max_depth=depth, n_estimators=max_trees)\n",
    "model.fit(X, y)"
   ]
  },
  {
   "cell_type": "code",
   "execution_count": null,
   "metadata": {
    "id": "lEP_2Q4hGd2s",
    "pycharm": {
     "name": "#%%\n"
    }
   },
   "outputs": [],
   "source": [
    "submission = pd.DataFrame(columns = [\"Id\", \"Expected\"])\n",
    "submission[\"Id\"] = test[\"Id\"]\n",
    "submission[\"Expected\"] = model.predict(y)\n",
    "submission.to_csv('submission.csv', index=False)"
   ]
  },
  {
   "cell_type": "markdown",
   "metadata": {
    "id": "ZQeKK4MdGd2s"
   },
   "source": [
    "# Задание 4 (2 балла)"
   ]
  },
  {
   "cell_type": "markdown",
   "metadata": {
    "id": "mwaD6pw5Gd2s"
   },
   "source": [
    "В качестве альтернативы попробуем библиотечные реализации ансамблей моделей. \n",
    "\n",
    "1. [CatBoost](https://catboost.ai/docs/)\n",
    "2. [XGBoost](https://xgboost.readthedocs.io/en/latest/)\n",
    "3. [LightGBM](https://lightgbm.readthedocs.io/en/latest/)\n"
   ]
  },
  {
   "cell_type": "markdown",
   "metadata": {
    "id": "qrsbvsa2Gd2s"
   },
   "source": [
    "Установите необходимые библиотеки. \n",
    "Возможно, потребуется установка дополнительных пакетов."
   ]
  },
  {
   "cell_type": "markdown",
   "metadata": {
    "id": "_l5yCfhgGd2t"
   },
   "source": [
    "1. Примените модели для нашего датасета.\n",
    "\n",
    "2. Для стандартного набора параметров у каждой модели нарисуйте `ROC` кривую и выведите `AUC` и `accuracy`.\n",
    "\n",
    "3. Посчитайте время обучения каждой модели (можно использовать [timeit magic](https://ipython.readthedocs.io/en/stable/interactive/magics.html#magic-timeit)).\n",
    "\n",
    "4. Сравните метрики качества и скорость обучения моделей. Какие выводы можно сделать?"
   ]
  },
  {
   "cell_type": "code",
   "execution_count": null,
   "metadata": {
    "id": "6i1kloTwGd2t"
   },
   "outputs": [],
   "source": [
    "import lightgbm\n",
    "import catboost\n",
    "import xgboost"
   ]
  },
  {
   "cell_type": "code",
   "execution_count": null,
   "metadata": {
    "id": "jf7MzpVXGd2t"
   },
   "outputs": [],
   "source": [
    "X = pd.read_csv(\"data/x_spam_train.csv\", index_col=0)\n",
    "y = pd.read_csv(\"data/y_spam_train.csv\", index_col=0)\n",
    "X_train, X_validation, y_train, y_validation = train_test_split(X, y, test_size=0.2)"
   ]
  },
  {
   "cell_type": "code",
   "execution_count": null,
   "metadata": {
    "id": "dx3UN1-rIgY1"
   },
   "outputs": [],
   "source": [
    "def build_and_evaluate_model(X_train, y_train, X_validation, y_validation, model):\n",
    "    model.fit(X_train, y_train.to_numpy().flatten())\n",
    "\n",
    "    accuracy = np.mean(y_validation.to_numpy().flatten() == model.predict(X_validation))\n",
    "\n",
    "    print(\"Accuracy:\", round(accuracy, 4))\n",
    "\n",
    "    plot_roc(y_validation.to_numpy(), model.predict_proba(X_validation)[:, 1], title=str(model))"
   ]
  },
  {
   "cell_type": "code",
   "execution_count": null,
   "metadata": {
    "colab": {
     "base_uri": "https://localhost:8080/",
     "height": 318
    },
    "id": "dM8r14wDIpgC",
    "outputId": "0fa6f9bc-25a3-4a10-95b1-6ff9db436a50"
   },
   "outputs": [
    {
     "name": "stdout",
     "output_type": "stream",
     "text": [
      "Accuracy: 0.9511\n"
     ]
    },
    {
     "data": {
      "image/png": "[encoded data removed]",
      "text/plain": [
       "<Figure size 432x288 with 1 Axes>"
      ]
     },
     "metadata": {
      "needs_background": "light"
     },
     "output_type": "display_data"
    }
   ],
   "source": [
    "build_and_evaluate_model(X_train, y_train, X_validation, y_validation, model=lightgbm.LGBMClassifier())"
   ]
  },
  {
   "cell_type": "code",
   "execution_count": null,
   "metadata": {
    "colab": {
     "base_uri": "https://localhost:8080/",
     "height": 318
    },
    "id": "Q5tvSjxCG3A7",
    "outputId": "6a3a7068-406f-4428-ae6f-105f6ead0b6d"
   },
   "outputs": [
    {
     "name": "stdout",
     "output_type": "stream",
     "text": [
      "Accuracy: 0.9497\n"
     ]
    },
    {
     "data": {
      "image/png": "[encoded data removed]",
      "text/plain": [
       "<Figure size 432x288 with 1 Axes>"
      ]
     },
     "metadata": {
      "needs_background": "light"
     },
     "output_type": "display_data"
    }
   ],
   "source": [
    "build_and_evaluate_model(X_train, y_train, X_validation, y_validation, model=catboost.CatBoostClassifier(silent=True))"
   ]
  },
  {
   "cell_type": "code",
   "execution_count": null,
   "metadata": {
    "colab": {
     "base_uri": "https://localhost:8080/",
     "height": 318
    },
    "id": "R40YJ5BEHg09",
    "outputId": "00f42d53-5c0c-4753-f938-61322ec02859"
   },
   "outputs": [
    {
     "name": "stdout",
     "output_type": "stream",
     "text": [
      "Accuracy: 0.9348\n"
     ]
    },
    {
     "data": {
      "image/png": "[encoded data removed]",
      "text/plain": [
       "<Figure size 432x288 with 1 Axes>"
      ]
     },
     "metadata": {
      "needs_background": "light"
     },
     "output_type": "display_data"
    }
   ],
   "source": [
    "build_and_evaluate_model(X_train, y_train, X_validation, y_validation, model=xgboost.XGBClassifier())"
   ]
  },
  {
   "cell_type": "markdown",
   "metadata": {
    "id": "2n7DHPn6Gd2t"
   },
   "source": [
    "У всех моделей сравнимое качество. Время обучения было следующим:\n",
    "\n",
    "* lightGBM: **800 ms**\n",
    "* CatBoost: **12.5 s**\n",
    "* XGBoost: **826 ms**\n",
    "\n",
    "CatBoost оказался значительно медленнее других моделей, а lightGBM – самым быстрым. Видимо, если категориальных признаков в данных нет, лучше всего использовать lightGBM"
   ]
  }
 ],
 "metadata": {
  "colab": {
   "name": "04_HW_Ensembles.ipynb",
   "provenance": []
  },
  "kernelspec": {
   "display_name": "Python 3 (ipykernel)",
   "language": "python",
   "name": "python3"
  },
  "language_info": {
   "codemirror_mode": {
    "name": "ipython",
    "version": 3
   },
   "file_extension": ".py",
   "mimetype": "text/x-python",
   "name": "python",
   "nbconvert_exporter": "python",
   "pygments_lexer": "ipython3",
   "version": "3.8.11"
  }
 },
 "nbformat": 4,
 "nbformat_minor": 1
}
